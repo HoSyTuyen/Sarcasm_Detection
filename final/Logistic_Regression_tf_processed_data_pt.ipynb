{
 "cells": [
  {
   "cell_type": "code",
   "execution_count": 34,
   "metadata": {},
   "outputs": [
    {
     "name": "stderr",
     "output_type": "stream",
     "text": [
      "C:\\Users\\Admin\\Anaconda3\\envs\\NEW\\lib\\site-packages\\ipykernel_launcher.py:49: SparseEfficiencyWarning: Changing the sparsity structure of a csc_matrix is expensive. lil_matrix is more efficient.\n"
     ]
    }
   ],
   "source": [
    "# import thư viện numpy\n",
    "import numpy as np\n",
    "# import thư viện matplotlib\n",
    "import matplotlib.pyplot as plt\n",
    "\n",
    "import scipy.sparse as sp\n",
    "\n",
    "import math\n",
    "\n",
    "from numpy import linalg as LA\n",
    "\n",
    "from Evaluate import *\n",
    "\n",
    "# Tải dữ liệu data X và y đã được xử lý thành ma trận\n",
    "labels = np.load('C:/Users/Admin/Downloads/NLTK_is_Sarcastic-master/label.npy')\n",
    "# dữ liệu bình thường dùng hàm tách\n",
    "# features = sp.load_npz('C:/Users/Admin/Downloads/NLTK_is_Sarcastic-master/PreProcessed_Data/tfidf.npz')\n",
    "\n",
    "# dữ liệu tf_idf loại bỏ stop words\n",
    "# features = sp.load_npz('C:/Users/Admin/Downloads/NLTK_is_Sarcastic-master/PreProcessed_Data/tf_idf_processed_data_sw.npz')\n",
    "# dữ liệu tf_idf không loại bỏ stop words\n",
    "# features = sp.load_npz('C:/Users/Admin/Downloads/NLTK_is_Sarcastic-master/PreProcessed_Data/tf_idf_processed_data_pt.npz')\n",
    "\n",
    "# dữ liệu boolean loại bỏ stop words\n",
    "# features = sp.load_npz('C:/Users/Admin/Downloads/NLTK_is_Sarcastic-master/PreProcessed_Data/boolean_processed_data_sw.npz')\n",
    "# dữ liệu boolean không loại bỏ stop words\n",
    "# features = sp.load_npz('C:/Users/Admin/Downloads/NLTK_is_Sarcastic-master/PreProcessed_Data/boolean_processed_data_pt.npz')\n",
    "\n",
    "# dữ liệu tf loại bỏ stop words\n",
    "# features = sp.load_npz('C:/Users/Admin/Downloads/NLTK_is_Sarcastic-master/PreProcessed_Data/tf_processed_data_sw.npz')\n",
    "# dữ liệu tf không loại bỏ stop words\n",
    "features = sp.load_npz('C:/Users/Admin/Downloads/NLTK_is_Sarcastic-master/PreProcessed_Data/tf_processed_data_pt.npz')\n",
    "\n",
    "# dữ liệu idf loại bỏ stop words\n",
    "# features = sp.load_npz('C:/Users/Admin/Downloads/NLTK_is_Sarcastic-master/PreProcessed_Data/idf_processed_data_sw.npz')\n",
    "# dữ liệu idf không loại bỏ stop words\n",
    "# features = sp.load_npz('C:/Users/Admin/Downloads/NLTK_is_Sarcastic-master/PreProcessed_Data/idf_processed_data_pt.npz')\n",
    "\n",
    "def add_bias(features, labels):\n",
    "    '''\n",
    "    features là ma trận N*X với N là số datapoint, X là số term trong dictionary\n",
    "    labels là ma trận N*1 với N là số datapoint\n",
    "    \n",
    "    Hàm trả về ma trận features(sau khi đã thêm 1 cột bias giá trị 1 cho tất cả các phần tử) và labels\n",
    "    '''\n",
    "    # Thêm cột giá trị bias cho dữ liệu\n",
    "    labels_final = sp.csr_matrix(labels, shape = (1, len(labels)))\n",
    "    matrix_ones = sp.csc_matrix((26709,1),dtype=np.float)\n",
    "    matrix_ones[:]=1\n",
    "    matrix_final_features= sp.csc_matrix(sp.hstack((features,matrix_ones)))\n",
    "    return matrix_final_features, labels_final\n",
    "\n",
    "# chia Train và test\n",
    "matrix_final_features, labels_final = add_bias(features, labels)\n",
    "X_Train = matrix_final_features[:20000]\n",
    "X_test = matrix_final_features[20000:]\n",
    "y_Train = labels_final.T[:20000]\n",
    "y_test = labels_final.T[20000:]"
   ]
  },
  {
   "cell_type": "markdown",
   "metadata": {},
   "source": [
    "# Hàm Sigmoid"
   ]
  },
  {
   "cell_type": "code",
   "execution_count": 3,
   "metadata": {},
   "outputs": [],
   "source": [
    "def sigmoid(z):\n",
    "    # hàm sigmoid\n",
    "    '''\n",
    "    z là model đầu ra Linear Regression\n",
    "    np.exp là e mũ\n",
    "    Hàm trả về sigmoid của z\n",
    "    \n",
    "    '''\n",
    "    return 1/(1+np.exp(-z))"
   ]
  },
  {
   "cell_type": "markdown",
   "metadata": {},
   "source": [
    "# Hàm Cost Function"
   ]
  },
  {
   "cell_type": "code",
   "execution_count": 4,
   "metadata": {},
   "outputs": [],
   "source": [
    "def Cost_Function(w, y, X):\n",
    "    '''\n",
    "    w là ma trận bộ tham số có shape bằng (1,X.shape[1])\n",
    "    X là features\n",
    "    y là y labels\n",
    "    Hàm trả về cost tương ứng bộ tham số w\n",
    "    \n",
    "    '''\n",
    "    # tính giá trị đầu ra của hàm Linear Regression\n",
    "    s = X.dot(w).toarray()\n",
    "    # scale s về khoảng [0,1] dùng hàm sigmoid\n",
    "    # z là xác xuất điểm dữ liệu rơi vào lớp y\n",
    "    z = sigmoid(s)\n",
    "    y = y.toarray()\n",
    "    \n",
    "    cost = -np.sum((y*(np.log(z)) + (1-y)*np.log(1-z)))/ X.shape[0]\n",
    "    \n",
    "    return cost"
   ]
  },
  {
   "cell_type": "markdown",
   "metadata": {},
   "source": [
    "# Hàm tính đạo hàm "
   ]
  },
  {
   "cell_type": "code",
   "execution_count": 5,
   "metadata": {},
   "outputs": [],
   "source": [
    "def Derivative(w, y, X):\n",
    "    '''\n",
    "    W là ma trận bộ trọng số w: (28901, 1)  <class 'scipy.sparse.csc.csc_matrix'>\n",
    "    y là dữ liệu labels y: (1, 1) <class 'scipy.sparse.csc.csc_matrix'>\n",
    "    X là dữ liệu Train X: (28901, 1) <class 'scipy.sparse.csr.csr_matrix'>\n",
    "    \n",
    "    Hàm trả về giá trị đạo hàm của Cost theo từng w\n",
    "    '''\n",
    "    # tính giá trị đầu ra của hàm Linear Regression\n",
    "    s = X.dot(w).toarray()\n",
    "    # scale s về khoảng [0,1] dùng hàm sigmoid\n",
    "    # z là xác xuất điểm dữ liệu rơi vào lớp y\n",
    "    z = sigmoid(s)\n",
    "    y = y.toarray()\n",
    "#     print('z',z.shape, type(z))\n",
    "#     print('y',y.shape, type(y))\n",
    "#     print('X',X.shape, type(X))\n",
    "    der = (z-y).T\n",
    "    \n",
    "    X = X.T\n",
    "#     print(X.shape, type(X))\n",
    "    der = sp.csr_matrix(der, shape = (1,der.shape[1]))\n",
    "    der = der.T\n",
    "#     print(der.shape, type(der))\n",
    "    \n",
    "    return X.dot(der)"
   ]
  },
  {
   "cell_type": "markdown",
   "metadata": {},
   "source": [
    "# Khởi tạo Learning Rate"
   ]
  },
  {
   "cell_type": "code",
   "execution_count": 6,
   "metadata": {},
   "outputs": [],
   "source": [
    "# Khởi tạo learning rate\n",
    "alpha = 0.0005"
   ]
  },
  {
   "cell_type": "markdown",
   "metadata": {},
   "source": [
    "# Prediction"
   ]
  },
  {
   "cell_type": "code",
   "execution_count": 19,
   "metadata": {},
   "outputs": [],
   "source": [
    "def Prediction(w, y, X, thred):\n",
    "    '''\n",
    "    W là ma trận bộ trọng số w: (28901, 1)  <class 'scipy.sparse.csc.csc_matrix'>\n",
    "    y là dữ liệu labels y: (1, 1) <class 'scipy.sparse.csc.csc_matrix'>\n",
    "    X là dữ liệu Train X: (28901, 1) <class 'scipy.sparse.csr.csr_matrix'>\n",
    "    \n",
    "    Hàm trả về ma trận N*1 với N là số datapoint\n",
    "    '''\n",
    "     # tính giá trị đầu ra của hàm Linear Regression\n",
    "    s = X.dot(w).toarray()\n",
    "    # scale s về khoảng [0,1] dùng hàm sigmoid\n",
    "    # z là xác xuất điểm dữ liệu rơi vào lớp y\n",
    "    z = sigmoid(s)\n",
    "    for i in range(z.shape[0]):\n",
    "        if(z[i]>thred):\n",
    "            z[i] = 1\n",
    "        else: z[i] = 0\n",
    "    return z"
   ]
  },
  {
   "cell_type": "code",
   "execution_count": 8,
   "metadata": {},
   "outputs": [],
   "source": [
    "# Khởi tạo ma trận biến với giá trị khởi tạo tại mỗi phần tử là 0\n",
    "w = np.zeros((X_Train.shape[1], 1))\n",
    "w = sp.csc_matrix(w, shape = (len(w),1))"
   ]
  },
  {
   "cell_type": "markdown",
   "metadata": {},
   "source": [
    "# BGD "
   ]
  },
  {
   "cell_type": "code",
   "execution_count": 9,
   "metadata": {},
   "outputs": [
    {
     "name": "stdout",
     "output_type": "stream",
     "text": [
      "epoch =  0 cost =  0.6645222450344348\n",
      "epoch =  500 cost =  0.26841969472167865\n",
      "epoch =  1000 cost =  0.21512277464574736\n",
      "epoch =  1500 cost =  0.1843854124048112\n",
      "epoch =  2000 cost =  0.16331054136126122\n",
      "epoch =  2500 cost =  0.1476007590916748\n",
      "epoch =  3000 cost =  0.13528129120960133\n",
      "epoch =  3500 cost =  0.12528259487731194\n",
      "epoch =  4000 cost =  0.11696141595969621\n",
      "epoch =  4500 cost =  0.1099012757271148\n",
      "epoch =  5000 cost =  0.10381770538644335\n",
      "epoch =  5500 cost =  0.0985085140412286\n",
      "epoch =  6000 cost =  0.09382541384943698\n",
      "epoch =  6500 cost =  0.08965679687298962\n",
      "epoch =  7000 cost =  0.08591682172851797\n",
      "epoch =  7500 cost =  0.08253824832164527\n",
      "epoch =  8000 cost =  0.07946757676688579\n",
      "epoch =  8500 cost =  0.07666165510303583\n",
      "epoch =  9000 cost =  0.0740852565961946\n",
      "epoch =  9500 cost =  0.07170931526665511\n",
      "epoch =  10000 cost =  0.06950961829291172\n",
      "epoch =  10500 cost =  0.06746582174780472\n",
      "epoch =  11000 cost =  0.06556069923817794\n",
      "epoch =  11500 cost =  0.0637795609424427\n",
      "epoch =  12000 cost =  0.062109798949701346\n",
      "epoch =  12500 cost =  0.060540527232762986\n",
      "epoch =  13000 cost =  0.059062293244536865\n",
      "epoch =  13500 cost =  0.05766684438981028\n",
      "epoch =  14000 cost =  0.05634693730466606\n",
      "epoch =  14500 cost =  0.05509618135898062\n",
      "epoch =  15000 cost =  0.05390891019721445\n",
      "epoch =  15500 cost =  0.05278007653550062\n",
      "epoch =  16000 cost =  0.05170516610587291\n",
      "epoch =  16500 cost =  0.05068012700768085\n",
      "epoch =  17000 cost =  0.049701311150471085\n",
      "epoch =  17500 cost =  0.04876542506401242\n",
      "epoch =  18000 cost =  0.04786948801258295\n",
      "epoch =  18500 cost =  0.047010795937735855\n",
      "epoch =  19000 cost =  0.046186890189111415\n",
      "epoch =  19500 cost =  0.04539553028784416\n",
      "epoch =  20000 cost =  0.04463467014209697\n",
      "epoch =  20500 cost =  0.043902437242515656\n",
      "epoch =  21000 cost =  0.04319711443789546\n",
      "epoch =  21500 cost =  0.042517123945864835\n",
      "epoch =  22000 cost =  0.041861013298632045\n",
      "epoch =  22500 cost =  0.04122744296348138\n",
      "epoch =  23000 cost =  0.04061517541305409\n",
      "epoch =  23500 cost =  0.040023065451877\n",
      "epoch =  24000 cost =  0.03945005163323567\n",
      "epoch =  24500 cost =  0.03889514862447553\n",
      "epoch =  25000 cost =  0.03835744039940156\n",
      "epoch =  25500 cost =  0.037836074153962444\n",
      "epoch =  26000 cost =  0.03733025485622402\n",
      "epoch =  26500 cost =  0.03683924035413984\n",
      "epoch =  27000 cost =  0.03636233697517048\n",
      "epoch =  27500 cost =  0.03589889556070866\n",
      "epoch =  28000 cost =  0.03544830788580847\n",
      "epoch =  28500 cost =  0.0350100034211249\n",
      "epoch =  29000 cost =  0.03458344639943706\n",
      "epoch =  29500 cost =  0.03416813315380882\n",
      "epoch =  30000 cost =  0.03376358969846539\n",
      "epoch =  30500 cost =  0.03336936952693524\n",
      "epoch =  31000 cost =  0.032985051605012104\n",
      "epoch =  31500 cost =  0.032610238538700126\n",
      "epoch =  32000 cost =  0.03224455489957622\n",
      "epoch =  32500 cost =  0.03188764569198631\n",
      "epoch =  33000 cost =  0.031539174948225834\n",
      "epoch =  33500 cost =  0.031198824439375578\n",
      "epoch =  34000 cost =  0.03086629249079931\n",
      "epoch =  34500 cost =  0.03054129289248549\n",
      "epoch =  35000 cost =  0.030223553895451807\n",
      "epoch =  35500 cost =  0.029912817286346843\n",
      "epoch =  36000 cost =  0.029608837533193422\n",
      "epoch =  36500 cost =  0.029311380995935634\n"
     ]
    },
    {
     "name": "stderr",
     "output_type": "stream",
     "text": [
      "C:\\Users\\Admin\\Anaconda3\\envs\\NEW\\lib\\site-packages\\ipykernel_launcher.py:16: RuntimeWarning: divide by zero encountered in log\n",
      "  app.launch_new_instance()\n",
      "C:\\Users\\Admin\\Anaconda3\\envs\\NEW\\lib\\site-packages\\ipykernel_launcher.py:16: RuntimeWarning: invalid value encountered in multiply\n",
      "  app.launch_new_instance()\n"
     ]
    },
    {
     "name": "stdout",
     "output_type": "stream",
     "text": [
      "Cost trên tập test_data: 0.6223874316065844\n"
     ]
    },
    {
     "data": {
      "image/png": "[encoded data removed]",
      "text/plain": [
       "<Figure size 432x288 with 1 Axes>"
      ]
     },
     "metadata": {
      "needs_background": "light"
     },
     "output_type": "display_data"
    }
   ],
   "source": [
    "# list chứa tất cả mse\n",
    "all_Cost = []\n",
    "\n",
    "# Khởi tạo số vòng lặp\n",
    "i = 0\n",
    "# Huấn luyện\n",
    "while True:\n",
    "    # Tính cost với w hiện thời\n",
    "    err = Cost_Function(w, y_Train, X_Train)\n",
    "    all_Cost.append(err)\n",
    "    # Cập nhật w theo công thức gradient descent\n",
    "    der = Derivative(w, y_Train, X_Train)\n",
    "    w = w - alpha*der \n",
    "   \n",
    "    if i % 500 == 0:\n",
    "        # In ra cost tại vòng lặp thứ i\n",
    "        print(\"epoch = \", i, \"cost = \",Cost_Function(w, y_Train, X_Train))\n",
    "    i += 1\n",
    "    if math.isnan(float(err)) or (LA.norm(der.toarray())/ der.shape[0]) == 0:\n",
    "        break\n",
    "\n",
    "# kiểm tra trên tập test\n",
    "print(\"Cost trên tập test_data:\", Cost_Function(w, y_test, X_test))\n",
    "# Vẽ đồ thị biễu diễn cost qua từng vòng lặp\n",
    "axis_x = list(range(i))\n",
    "axis_y = all_Cost\n",
    "plt.scatter(axis_x, axis_y)\n",
    "plt.show()"
   ]
  },
  {
   "cell_type": "code",
   "execution_count": 10,
   "metadata": {},
   "outputs": [],
   "source": [
    "y_pred = Prediction(w, y_test, X_test, 0.5)"
   ]
  },
  {
   "cell_type": "code",
   "execution_count": 26,
   "metadata": {},
   "outputs": [
    {
     "name": "stdout",
     "output_type": "stream",
     "text": [
      "TP: 2277\n",
      "FP: 516\n",
      "P: 2930\n"
     ]
    }
   ],
   "source": [
    "TP = find_TP(y_pred, y_test.toarray())\n",
    "\n",
    "FP = find_FP(y_pred, y_test.toarray())\n",
    "\n",
    "P = find_P(y_test.toarray())\n",
    "\n",
    "print('TP:', TP)\n",
    "print('FP:', FP)\n",
    "print('P:', P)"
   ]
  },
  {
   "cell_type": "markdown",
   "metadata": {},
   "source": [
    "# Evaluate"
   ]
  },
  {
   "cell_type": "code",
   "execution_count": 35,
   "metadata": {},
   "outputs": [
    {
     "name": "stdout",
     "output_type": "stream",
     "text": [
      "Accuracy =  0.8257564465643166\n",
      "Precision score = 0.8152524167561761\n",
      "Recall score: 0.7771331058020478\n",
      "F1_score: 0.795736501834702\n"
     ]
    }
   ],
   "source": [
    "from Evaluate import *\n",
    "Re = Recall(TP, P)\n",
    "Pr = Precision(TP, FP)\n",
    "print('Accuracy = ',Accuracy(y_pred, y_test.toarray()))\n",
    "print(\"Precision score =\", Pr)\n",
    "print(\"Recall score:\", Re)\n",
    "print(\"F1_score:\",F1_Score(Pr, Re))"
   ]
  },
  {
   "cell_type": "markdown",
   "metadata": {},
   "source": [
    "# Cải tiến chọn ngưỡng tối ưu F1_score"
   ]
  },
  {
   "cell_type": "code",
   "execution_count": 44,
   "metadata": {},
   "outputs": [
    {
     "data": {
      "image/png": "[encoded data removed]",
      "text/plain": [
       "<Figure size 432x288 with 1 Axes>"
      ]
     },
     "metadata": {
      "needs_background": "light"
     },
     "output_type": "display_data"
    },
    {
     "name": "stdout",
     "output_type": "stream",
     "text": [
      "0.8066334991708125\n"
     ]
    }
   ],
   "source": [
    "def choosen_Thred(w, y_test, X_test):\n",
    "    f1 = []\n",
    "    for i in np.arange(0.0,1.0,0.001):\n",
    "        y_pred = Prediction(w, y_test, X_test, i)\n",
    "        TP = find_TP(y_pred, y_test.toarray())\n",
    "        FP = find_FP(y_pred, y_test.toarray())\n",
    "        P = find_P(y_test.toarray())\n",
    "        Re = Recall(TP, P)\n",
    "        Pr = Precision(TP, FP)\n",
    "        f1.append(F1_Score(Pr, Re))\n",
    "    axis_x = list(range(1000))\n",
    "    axis_y = f1\n",
    "    plt.scatter(axis_x, axis_y)\n",
    "    plt.show()\n",
    "    \n",
    "    thred = f1.index(max(f1))\n",
    "    thred = thred/1000\n",
    "    print(max(f1))\n",
    "    return thred\n",
    "    \n",
    "thred = choosen_Thred(w, y_test, X_test)      "
   ]
  },
  {
   "cell_type": "code",
   "execution_count": 46,
   "metadata": {},
   "outputs": [
    {
     "name": "stdout",
     "output_type": "stream",
     "text": [
      "Accuracy =  0.8262036070949471\n",
      "Precision score = 0.7845161290322581\n",
      "Recall score: 0.8300341296928327\n",
      "F1_score: 0.8066334991708125\n"
     ]
    }
   ],
   "source": [
    "y_pred = Prediction(w, y_test, X_test, thred)\n",
    "TP = find_TP(y_pred, y_test.toarray())\n",
    "FP = find_FP(y_pred, y_test.toarray())\n",
    "P = find_P(y_test.toarray())\n",
    "Re = Recall(TP, P)\n",
    "Pr = Precision(TP, FP)\n",
    "print('Accuracy = ',Accuracy(y_pred, y_test.toarray()))\n",
    "print(\"Precision score =\", Pr)\n",
    "print(\"Recall score:\", Re)\n",
    "print(\"F1_score:\",F1_Score(Pr, Re))"
   ]
  },
  {
   "cell_type": "code",
   "execution_count": null,
   "metadata": {},
   "outputs": [],
   "source": []
  }
 ],
 "metadata": {
  "kernelspec": {
   "display_name": "Python 3",
   "language": "python",
   "name": "python3"
  },
  "language_info": {
   "codemirror_mode": {
    "name": "ipython",
    "version": 3
   },
   "file_extension": ".py",
   "mimetype": "text/x-python",
   "name": "python",
   "nbconvert_exporter": "python",
   "pygments_lexer": "ipython3",
   "version": "3.6.8"
  }
 },
 "nbformat": 4,
 "nbformat_minor": 2
}
