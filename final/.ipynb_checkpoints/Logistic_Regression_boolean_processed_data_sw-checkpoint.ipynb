{
 "cells": [
  {
   "cell_type": "code",
   "execution_count": 1,
   "metadata": {},
   "outputs": [
    {
     "name": "stderr",
     "output_type": "stream",
     "text": [
      "C:\\Users\\Admin\\Anaconda3\\envs\\NEW\\lib\\site-packages\\ipykernel_launcher.py:47: SparseEfficiencyWarning: Changing the sparsity structure of a csc_matrix is expensive. lil_matrix is more efficient.\n"
     ]
    }
   ],
   "source": [
    "# import thư viện numpy\n",
    "import numpy as np\n",
    "# import thư viện matplotlib\n",
    "import matplotlib.pyplot as plt\n",
    "\n",
    "import scipy.sparse as sp\n",
    "\n",
    "import math\n",
    "\n",
    "from numpy import linalg as LA\n",
    "\n",
    "# Tải dữ liệu data X và y đã được xử lý thành ma trận\n",
    "labels = np.load('C:/Users/Admin/Downloads/NLTK_is_Sarcastic-master/label.npy')\n",
    "# dữ liệu bình thường dùng hàm tách\n",
    "# features = sp.load_npz('C:/Users/Admin/Downloads/NLTK_is_Sarcastic-master/PreProcessed_Data/tfidf.npz')\n",
    "\n",
    "# dữ liệu tf_idf loại bỏ stop words\n",
    "# features = sp.load_npz('C:/Users/Admin/Downloads/NLTK_is_Sarcastic-master/PreProcessed_Data/tf_idf_processed_data_sw.npz')\n",
    "# dữ liệu tf_idf không loại bỏ stop words\n",
    "# features = sp.load_npz('C:/Users/Admin/Downloads/NLTK_is_Sarcastic-master/PreProcessed_Data/tf_idf_processed_data_pt.npz')\n",
    "\n",
    "# dữ liệu boolean loại bỏ stop words\n",
    "features = sp.load_npz('C:/Users/Admin/Downloads/NLTK_is_Sarcastic-master/PreProcessed_Data/boolean_processed_data_sw.npz')\n",
    "# dữ liệu boolean không loại bỏ stop words\n",
    "# features = sp.load_npz('C:/Users/Admin/Downloads/NLTK_is_Sarcastic-master/PreProcessed_Data/boolean_processed_data_pt.npz')\n",
    "\n",
    "# dữ liệu tf loại bỏ stop words\n",
    "# features = sp.load_npz('C:/Users/Admin/Downloads/NLTK_is_Sarcastic-master/PreProcessed_Data/tf_processed_data_sw.npz')\n",
    "# dữ liệu tf không loại bỏ stop words\n",
    "# features = sp.load_npz('C:/Users/Admin/Downloads/NLTK_is_Sarcastic-master/PreProcessed_Data/tf_processed_data_pt.npz')\n",
    "\n",
    "# dữ liệu idf loại bỏ stop words\n",
    "# features = sp.load_npz('C:/Users/Admin/Downloads/NLTK_is_Sarcastic-master/PreProcessed_Data/idf_processed_data_sw.npz')\n",
    "# dữ liệu idf không loại bỏ stop words\n",
    "# features = sp.load_npz('C:/Users/Admin/Downloads/NLTK_is_Sarcastic-master/PreProcessed_Data/idf_processed_data_pt.npz')\n",
    "\n",
    "def add_bias(features, labels):\n",
    "    '''\n",
    "    features là ma trận N*X với N là số datapoint, X là số term trong dictionary\n",
    "    labels là ma trận N*1 với N là số datapoint\n",
    "    \n",
    "    Hàm trả về ma trận features(sau khi đã thêm 1 cột bias giá trị 1 cho tất cả các phần tử) và labels\n",
    "    '''\n",
    "    # Thêm cột giá trị bias cho dữ liệu\n",
    "    labels_final = sp.csr_matrix(labels, shape = (1, len(labels)))\n",
    "    matrix_ones = sp.csc_matrix((26709,1),dtype=np.float)\n",
    "    matrix_ones[:]=1\n",
    "    matrix_final_features= sp.csc_matrix(sp.hstack((features,matrix_ones)))\n",
    "    return matrix_final_features, labels_final\n",
    "\n",
    "# chia Train và test\n",
    "matrix_final_features, labels_final = add_bias(features, labels)\n",
    "X_Train = matrix_final_features[:20000]\n",
    "X_test = matrix_final_features[20000:]\n",
    "y_Train = labels_final.T[:20000]\n",
    "y_test = labels_final.T[20000:]"
   ]
  },
  {
   "cell_type": "markdown",
   "metadata": {},
   "source": [
    "# Hàm Sigmoid"
   ]
  },
  {
   "cell_type": "code",
   "execution_count": 2,
   "metadata": {},
   "outputs": [],
   "source": [
    "def sigmoid(z):\n",
    "    # hàm sigmoid\n",
    "    '''\n",
    "    z là model đầu ra Linear Regression\n",
    "    np.exp là e mũ\n",
    "    Hàm trả về sigmoid của z\n",
    "    \n",
    "    '''\n",
    "    return 1/(1+np.exp(-z))"
   ]
  },
  {
   "cell_type": "markdown",
   "metadata": {},
   "source": [
    "# Hàm Cost Function"
   ]
  },
  {
   "cell_type": "code",
   "execution_count": 3,
   "metadata": {},
   "outputs": [],
   "source": [
    "def Cost_Function(w, y, X):\n",
    "    '''\n",
    "    w là ma trận bộ tham số có shape bằng (1,X.shape[1])\n",
    "    X là features\n",
    "    y là y labels\n",
    "    Hàm trả về cost tương ứng bộ tham số w\n",
    "    \n",
    "    '''\n",
    "    # tính giá trị đầu ra của hàm Linear Regression\n",
    "    s = X.dot(w).toarray()\n",
    "    # scale s về khoảng [0,1] dùng hàm sigmoid\n",
    "    # z là xác xuất điểm dữ liệu rơi vào lớp y\n",
    "    z = sigmoid(s)\n",
    "    y = y.toarray()\n",
    "    \n",
    "    cost = -np.sum((y*(np.log(z)) + (1-y)*np.log(1-z)))/ X.shape[0]\n",
    "    \n",
    "    return cost"
   ]
  },
  {
   "cell_type": "markdown",
   "metadata": {},
   "source": [
    "# Hàm tính đạo hàm "
   ]
  },
  {
   "cell_type": "code",
   "execution_count": 4,
   "metadata": {},
   "outputs": [],
   "source": [
    "def Derivative(w, y, X):\n",
    "    '''\n",
    "    W là ma trận bộ trọng số w: (28901, 1)  <class 'scipy.sparse.csc.csc_matrix'>\n",
    "    y là dữ liệu labels y: (1, 1) <class 'scipy.sparse.csc.csc_matrix'>\n",
    "    X là dữ liệu Train X: (28901, 1) <class 'scipy.sparse.csr.csr_matrix'>\n",
    "    \n",
    "    Hàm trả về giá trị đạo hàm của Cost theo từng w\n",
    "    '''\n",
    "    # tính giá trị đầu ra của hàm Linear Regression\n",
    "    s = X.dot(w).toarray()\n",
    "    # scale s về khoảng [0,1] dùng hàm sigmoid\n",
    "    # z là xác xuất điểm dữ liệu rơi vào lớp y\n",
    "    z = sigmoid(s)\n",
    "    y = y.toarray()\n",
    "#     print('z',z.shape, type(z))\n",
    "#     print('y',y.shape, type(y))\n",
    "#     print('X',X.shape, type(X))\n",
    "    der = (z-y).T\n",
    "    \n",
    "    X = X.T\n",
    "#     print(X.shape, type(X))\n",
    "    der = sp.csr_matrix(der, shape = (1,der.shape[1]))\n",
    "    der = der.T\n",
    "#     print(der.shape, type(der))\n",
    "    \n",
    "    return X.dot(der)"
   ]
  },
  {
   "cell_type": "markdown",
   "metadata": {},
   "source": [
    "# Khởi tạo Learning Rate"
   ]
  },
  {
   "cell_type": "code",
   "execution_count": 5,
   "metadata": {},
   "outputs": [],
   "source": [
    "# Khởi tạo learning rate\n",
    "alpha = 0.0005"
   ]
  },
  {
   "cell_type": "markdown",
   "metadata": {},
   "source": [
    "# Prediction"
   ]
  },
  {
   "cell_type": "code",
   "execution_count": 9,
   "metadata": {},
   "outputs": [],
   "source": [
    "def Prediction(w, y, X, thred):\n",
    "    '''\n",
    "    W là ma trận bộ trọng số w: (28901, 1)  <class 'scipy.sparse.csc.csc_matrix'>\n",
    "    y là dữ liệu labels y: (1, 1) <class 'scipy.sparse.csc.csc_matrix'>\n",
    "    X là dữ liệu Train X: (28901, 1) <class 'scipy.sparse.csr.csr_matrix'>\n",
    "    \n",
    "    Hàm trả về ma trận N*1 với N là số datapoint\n",
    "    '''\n",
    "     # tính giá trị đầu ra của hàm Linear Regression\n",
    "    s = X.dot(w).toarray()\n",
    "    # scale s về khoảng [0,1] dùng hàm sigmoid\n",
    "    # z là xác xuất điểm dữ liệu rơi vào lớp y\n",
    "    z = sigmoid(s)\n",
    "    for i in range(z.shape[0]):\n",
    "        if(z[i]>thred):\n",
    "            z[i] = 1\n",
    "        else: z[i] = 0\n",
    "    return z"
   ]
  },
  {
   "cell_type": "code",
   "execution_count": 7,
   "metadata": {},
   "outputs": [],
   "source": [
    "# Khởi tạo ma trận biến với giá trị khởi tạo tại mỗi phần tử là 0\n",
    "w = np.zeros((X_Train.shape[1], 1))\n",
    "w = sp.csc_matrix(w, shape = (len(w),1))"
   ]
  },
  {
   "cell_type": "markdown",
   "metadata": {},
   "source": [
    "# BGD "
   ]
  },
  {
   "cell_type": "code",
   "execution_count": 8,
   "metadata": {},
   "outputs": [
    {
     "name": "stdout",
     "output_type": "stream",
     "text": [
      "epoch =  0 cost =  0.6898835298064884\n",
      "epoch =  500 cost =  0.31291023960514663\n",
      "epoch =  1000 cost =  0.2484694027720765\n",
      "epoch =  1500 cost =  0.21122935681737445\n",
      "epoch =  2000 cost =  0.18557819097146488\n",
      "epoch =  2500 cost =  0.16638448625718402\n",
      "epoch =  3000 cost =  0.15129410489036413\n",
      "epoch =  3500 cost =  0.13902609129845142\n",
      "epoch =  4000 cost =  0.12880611188593738\n",
      "epoch =  4500 cost =  0.12013113907710636\n",
      "epoch =  5000 cost =  0.11265671094865361\n",
      "epoch =  5500 cost =  0.10613725770453698\n",
      "epoch =  6000 cost =  0.10039206728110475\n",
      "epoch =  6500 cost =  0.09528469515300839\n",
      "epoch =  7000 cost =  0.09070990079891383\n",
      "epoch =  7500 cost =  0.08658503252335573\n",
      "epoch =  8000 cost =  0.08284416184279275\n",
      "epoch =  8500 cost =  0.07943398162972949\n",
      "epoch =  9000 cost =  0.07631087135987334\n",
      "epoch =  9500 cost =  0.0734387552979718\n",
      "epoch =  10000 cost =  0.07078751174377992\n",
      "epoch =  10500 cost =  0.068331772856509\n",
      "epoch =  11000 cost =  0.06605000624435675\n",
      "epoch =  11500 cost =  0.06392380321226317\n",
      "epoch =  12000 cost =  0.061937321011187325\n",
      "epoch =  12500 cost =  0.060076841567188025\n",
      "epoch =  13000 cost =  0.058330419437736244\n",
      "epoch =  13500 cost =  0.056687598782442276\n",
      "epoch =  14000 cost =  0.05513918408057861\n",
      "epoch =  14500 cost =  0.053677052934228524\n",
      "epoch =  15000 cost =  0.05229400201847833\n",
      "epoch =  15500 cost =  0.05098361932858751\n",
      "epoch =  16000 cost =  0.04974017747096375\n",
      "epoch =  16500 cost =  0.048558543951167286\n",
      "epoch =  17000 cost =  0.04743410531472713\n",
      "epoch =  17500 cost =  0.04636270267073636\n",
      "epoch =  18000 cost =  0.04534057663535446\n",
      "epoch =  18500 cost =  0.04436432011876026\n",
      "epoch =  19000 cost =  0.043430837677902095\n",
      "epoch =  19500 cost =  0.04253731039171374\n",
      "epoch =  20000 cost =  0.04168116540142956\n",
      "epoch =  20500 cost =  0.04086004940765139\n",
      "epoch =  21000 cost =  0.04007180553615585\n",
      "epoch =  21500 cost =  0.03931445308221382\n",
      "epoch =  22000 cost =  0.03858616972306894\n",
      "epoch =  22500 cost =  0.037885275853773236\n",
      "epoch =  23000 cost =  0.03721022075559677\n",
      "epoch =  23500 cost =  0.0365595703509228\n",
      "epoch =  24000 cost =  0.03593199633565609\n",
      "epoch =  24500 cost =  0.035326266511107936\n",
      "epoch =  25000 cost =  0.034741236163196056\n",
      "epoch =  25500 cost =  0.03417584035851332\n",
      "epoch =  26000 cost =  0.03362908704510494\n",
      "epoch =  26500 cost =  0.03310005086124038\n",
      "epoch =  27000 cost =  0.03258786756855645\n",
      "epoch =  27500 cost =  0.03209172903707412\n",
      "epoch =  28000 cost =  0.03161087871907587\n",
      "epoch =  28500 cost =  0.031144607556939458\n",
      "epoch =  29000 cost =  0.030692250276974697\n",
      "epoch =  29500 cost =  0.030253182027284435\n",
      "epoch =  30000 cost =  0.029826815322819653\n",
      "epoch =  30500 cost =  0.029412597265246213\n",
      "epoch =  31000 cost =  0.02901000700909251\n",
      "epoch =  31500 cost =  0.028618553448990013\n",
      "epoch =  32000 cost =  0.028237773105726876\n",
      "epoch =  32500 cost =  0.02786722819137022\n",
      "epoch =  33000 cost =  0.027506504835927252\n",
      "epoch =  33500 cost =  0.027155211459954365\n",
      "epoch =  34000 cost =  0.026812977279224076\n",
      "epoch =  34500 cost =  0.026479450929054064\n",
      "epoch =  35000 cost =  0.026154299197218234\n",
      "epoch =  35500 cost =  0.025837205855520615\n",
      "epoch =  36000 cost =  0.025527870581137733\n",
      "epoch =  36500 cost =  0.025226007959743075\n",
      "epoch =  37000 cost =  0.024931346563231434\n",
      "epoch =  37500 cost =  0.024643628095575344\n",
      "epoch =  38000 cost =  0.024362606600980937\n",
      "epoch =  38500 cost =  0.024088047729076564\n",
      "epoch =  39000 cost =  0.02381972805237183\n",
      "epoch =  39500 cost =  0.0235574344316759\n",
      "epoch =  40000 cost =  0.023300963425566697\n",
      "epoch =  40500 cost =  0.023050120740364343\n",
      "epoch =  41000 cost =  0.022804720717385724\n",
      "epoch =  41500 cost =  0.022564585854548392\n",
      "epoch =  42000 cost =  0.022329546359653438\n",
      "epoch =  42500 cost =  0.02209943973291292\n",
      "epoch =  43000 cost =  0.021874110376499476\n",
      "epoch =  43500 cost =  0.021653409229087817\n",
      "epoch =  44000 cost =  0.0214371934235309\n",
      "epoch =  44500 cost =  0.021225325965970394\n",
      "epoch =  45000 cost =  0.021017675434823007\n",
      "epoch =  45500 cost =  0.02081411569821306\n",
      "epoch =  46000 cost =  0.02061452564853843\n",
      "epoch =  46500 cost =  0.020418788952963254\n",
      "epoch =  47000 cost =  0.020226793818727433\n"
     ]
    },
    {
     "name": "stderr",
     "output_type": "stream",
     "text": [
      "C:\\Users\\Admin\\Anaconda3\\envs\\NEW\\lib\\site-packages\\ipykernel_launcher.py:16: RuntimeWarning: divide by zero encountered in log\n",
      "  app.launch_new_instance()\n",
      "C:\\Users\\Admin\\Anaconda3\\envs\\NEW\\lib\\site-packages\\ipykernel_launcher.py:16: RuntimeWarning: invalid value encountered in multiply\n",
      "  app.launch_new_instance()\n"
     ]
    },
    {
     "name": "stdout",
     "output_type": "stream",
     "text": [
      "Cost trên tập test_data: 0.7993370412261692\n"
     ]
    },
    {
     "data": {
      "image/png": "[encoded data removed]",
      "text/plain": [
       "<Figure size 432x288 with 1 Axes>"
      ]
     },
     "metadata": {
      "needs_background": "light"
     },
     "output_type": "display_data"
    }
   ],
   "source": [
    "# list chứa tất cả mse\n",
    "all_Cost = []\n",
    "\n",
    "# Khởi tạo số vòng lặp\n",
    "i = 0\n",
    "# Huấn luyện\n",
    "while True:\n",
    "    # Tính cost với w hiện thời\n",
    "    err = Cost_Function(w, y_Train, X_Train)\n",
    "    all_Cost.append(err)\n",
    "    # Cập nhật w theo công thức gradient descent\n",
    "    der = Derivative(w, y_Train, X_Train)\n",
    "    w = w - alpha*der \n",
    "   \n",
    "    if i % 500 == 0:\n",
    "        # In ra cost tại vòng lặp thứ i\n",
    "        print(\"epoch = \", i, \"cost = \",Cost_Function(w, y_Train, X_Train))\n",
    "    i += 1\n",
    "    if math.isnan(float(err)) or (LA.norm(der.toarray())/ der.shape[0]) == 0:\n",
    "        break\n",
    "    \n",
    "\n",
    "# kiểm tra trên tập test\n",
    "print(\"Cost trên tập test_data:\", Cost_Function(w, y_test, X_test))\n",
    "# Vẽ đồ thị biễu diễn cost qua từng vòng lặp\n",
    "axis_x = list(range(i))\n",
    "axis_y = all_Cost\n",
    "plt.scatter(axis_x, axis_y)\n",
    "plt.show()"
   ]
  },
  {
   "cell_type": "code",
   "execution_count": 11,
   "metadata": {},
   "outputs": [],
   "source": [
    "y_pred = Prediction(w, y_test, X_test, 0.5)"
   ]
  },
  {
   "cell_type": "code",
   "execution_count": 12,
   "metadata": {},
   "outputs": [
    {
     "name": "stdout",
     "output_type": "stream",
     "text": [
      "TP: 2022\n",
      "FP: 574\n",
      "P: 2930\n"
     ]
    }
   ],
   "source": [
    "# tính tổng số điểm dữ liệu dự đoán có nhãn là 1 đúng\n",
    "def find_TP(y_pred, y_test):\n",
    "    count = 0\n",
    "    Positive = np.multiply(y_pred, y_test)\n",
    "    return np.count_nonzero(Positive)\n",
    "TP = find_TP(y_pred, y_test.toarray())\n",
    "\n",
    "# tính tổng số điểm dữ liệu dự đoán nhãn là 1 nhưng sai\n",
    "def find_FP(y_pred, y_test):\n",
    "    count = 0\n",
    "    for i in range(y_pred.shape[0]):\n",
    "        if y_pred[i] == 1:\n",
    "            if y_test[i] == 0:\n",
    "                count += 1\n",
    "    return count\n",
    "FP = find_FP(y_pred, y_test.toarray())\n",
    "\n",
    "# tính tống số điểm dữ liệu có nhãn là 1 trong tập test\n",
    "def find_P(y_pred, y_test):\n",
    "    return np.count_nonzero(y_test)\n",
    "P = find_P(y_pred, y_test.toarray())\n",
    "\n",
    "print('TP:', TP)\n",
    "print('FP:', FP)\n",
    "print('P:', P)"
   ]
  },
  {
   "cell_type": "markdown",
   "metadata": {},
   "source": [
    "# Evaluate"
   ]
  },
  {
   "cell_type": "code",
   "execution_count": 16,
   "metadata": {},
   "outputs": [
    {
     "name": "stdout",
     "output_type": "stream",
     "text": [
      "Accuracy =  0.7791026978685348\n",
      "Precision score = 0.7788906009244992\n",
      "Recall score: 0.6901023890784983\n",
      "F1_score: 0.731813246471227\n"
     ]
    }
   ],
   "source": [
    "from Evaluate import *\n",
    "Re = Recall(TP, P)\n",
    "Pr = Precision(TP, FP)\n",
    "print('Accuracy = ',Accuracy(y_pred, y_test.toarray()))\n",
    "print(\"Precision score =\", Pr)\n",
    "print(\"Recall score:\", Re)\n",
    "print(\"F1_score:\",F1_score(Pr, Re))"
   ]
  },
  {
   "cell_type": "code",
   "execution_count": null,
   "metadata": {},
   "outputs": [],
   "source": []
  }
 ],
 "metadata": {
  "kernelspec": {
   "display_name": "Python 3",
   "language": "python",
   "name": "python3"
  },
  "language_info": {
   "codemirror_mode": {
    "name": "ipython",
    "version": 3
   },
   "file_extension": ".py",
   "mimetype": "text/x-python",
   "name": "python",
   "nbconvert_exporter": "python",
   "pygments_lexer": "ipython3",
   "version": "3.6.8"
  }
 },
 "nbformat": 4,
 "nbformat_minor": 2
}
