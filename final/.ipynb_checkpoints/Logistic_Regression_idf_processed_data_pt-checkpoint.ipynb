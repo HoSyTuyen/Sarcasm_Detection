{
 "cells": [
  {
   "cell_type": "code",
   "execution_count": 1,
   "metadata": {},
   "outputs": [
    {
     "name": "stderr",
     "output_type": "stream",
     "text": [
      "C:\\Users\\Admin\\Anaconda3\\envs\\NEW\\lib\\site-packages\\ipykernel_launcher.py:47: SparseEfficiencyWarning: Changing the sparsity structure of a csc_matrix is expensive. lil_matrix is more efficient.\n"
     ]
    }
   ],
   "source": [
    "# import thư viện numpy\n",
    "import numpy as np\n",
    "# import thư viện matplotlib\n",
    "import matplotlib.pyplot as plt\n",
    "\n",
    "import scipy.sparse as sp\n",
    "\n",
    "import math\n",
    "\n",
    "from numpy import linalg as LA\n",
    "\n",
    "# Tải dữ liệu data X và y đã được xử lý thành ma trận\n",
    "labels = np.load('C:/Users/Admin/Downloads/NLTK_is_Sarcastic-master/label.npy')\n",
    "# dữ liệu bình thường dùng hàm tách\n",
    "# features = sp.load_npz('C:/Users/Admin/Downloads/NLTK_is_Sarcastic-master/PreProcessed_Data/tfidf.npz')\n",
    "\n",
    "# dữ liệu tf_idf loại bỏ stop words\n",
    "# features = sp.load_npz('C:/Users/Admin/Downloads/NLTK_is_Sarcastic-master/PreProcessed_Data/tf_idf_processed_data_sw.npz')\n",
    "# dữ liệu tf_idf không loại bỏ stop words\n",
    "# features = sp.load_npz('C:/Users/Admin/Downloads/NLTK_is_Sarcastic-master/PreProcessed_Data/tf_idf_processed_data_pt.npz')\n",
    "\n",
    "# dữ liệu boolean loại bỏ stop words\n",
    "# features = sp.load_npz('C:/Users/Admin/Downloads/NLTK_is_Sarcastic-master/PreProcessed_Data/boolean_processed_data_sw.npz')\n",
    "# dữ liệu boolean không loại bỏ stop words\n",
    "# features = sp.load_npz('C:/Users/Admin/Downloads/NLTK_is_Sarcastic-master/PreProcessed_Data/boolean_processed_data_pt.npz')\n",
    "\n",
    "# dữ liệu tf loại bỏ stop words\n",
    "# features = sp.load_npz('C:/Users/Admin/Downloads/NLTK_is_Sarcastic-master/PreProcessed_Data/tf_processed_data_sw.npz')\n",
    "# dữ liệu tf không loại bỏ stop words\n",
    "# features = sp.load_npz('C:/Users/Admin/Downloads/NLTK_is_Sarcastic-master/PreProcessed_Data/tf_processed_data_pt.npz')\n",
    "\n",
    "# dữ liệu idf loại bỏ stop words\n",
    "# features = sp.load_npz('C:/Users/Admin/Downloads/NLTK_is_Sarcastic-master/PreProcessed_Data/idf_processed_data_sw.npz')\n",
    "# dữ liệu idf không loại bỏ stop words\n",
    "features = sp.load_npz('C:/Users/Admin/Downloads/NLTK_is_Sarcastic-master/PreProcessed_Data/idf_processed_data_pt.npz')\n",
    "\n",
    "def add_bias(features, labels):\n",
    "    '''\n",
    "    features là ma trận N*X với N là số datapoint, X là số term trong dictionary\n",
    "    labels là ma trận N*1 với N là số datapoint\n",
    "    \n",
    "    Hàm trả về ma trận features(sau khi đã thêm 1 cột bias giá trị 1 cho tất cả các phần tử) và labels\n",
    "    '''\n",
    "    # Thêm cột giá trị bias cho dữ liệu\n",
    "    labels_final = sp.csr_matrix(labels, shape = (1, len(labels)))\n",
    "    matrix_ones = sp.csc_matrix((26709,1),dtype=np.float)\n",
    "    matrix_ones[:]=1\n",
    "    matrix_final_features= sp.csc_matrix(sp.hstack((features,matrix_ones)))\n",
    "    return matrix_final_features, labels_final\n",
    "\n",
    "# chia Train và test\n",
    "matrix_final_features, labels_final = add_bias(features, labels)\n",
    "X_Train = matrix_final_features[:20000]\n",
    "X_test = matrix_final_features[20000:]\n",
    "y_Train = labels_final.T[:20000]\n",
    "y_test = labels_final.T[20000:]"
   ]
  },
  {
   "cell_type": "markdown",
   "metadata": {},
   "source": [
    "# Hàm Sigmoid"
   ]
  },
  {
   "cell_type": "code",
   "execution_count": 2,
   "metadata": {},
   "outputs": [],
   "source": [
    "def sigmoid(z):\n",
    "    # hàm sigmoid\n",
    "    '''\n",
    "    z là model đầu ra Linear Regression\n",
    "    np.exp là e mũ\n",
    "    Hàm trả về sigmoid của z\n",
    "    \n",
    "    '''\n",
    "    return 1/(1+np.exp(-z))"
   ]
  },
  {
   "cell_type": "markdown",
   "metadata": {},
   "source": [
    "# Hàm Cost Function"
   ]
  },
  {
   "cell_type": "code",
   "execution_count": 3,
   "metadata": {},
   "outputs": [],
   "source": [
    "def Cost_Function(w, y, X):\n",
    "    '''\n",
    "    w là ma trận bộ tham số có shape bằng (1,X.shape[1])\n",
    "    X là features\n",
    "    y là y labels\n",
    "    Hàm trả về cost tương ứng bộ tham số w\n",
    "    \n",
    "    '''\n",
    "    # tính giá trị đầu ra của hàm Linear Regression\n",
    "    s = X.dot(w).toarray()\n",
    "    # scale s về khoảng [0,1] dùng hàm sigmoid\n",
    "    # z là xác xuất điểm dữ liệu rơi vào lớp y\n",
    "    z = sigmoid(s)\n",
    "    y = y.toarray()\n",
    "    \n",
    "    cost = -np.sum((y*(np.log(z)) + (1-y)*np.log(1-z)))/ X.shape[0]\n",
    "    \n",
    "    return cost"
   ]
  },
  {
   "cell_type": "markdown",
   "metadata": {},
   "source": [
    "# Hàm tính đạo hàm "
   ]
  },
  {
   "cell_type": "code",
   "execution_count": 4,
   "metadata": {},
   "outputs": [],
   "source": [
    "def Derivative(w, y, X):\n",
    "    '''\n",
    "    W là ma trận bộ trọng số w: (28901, 1)  <class 'scipy.sparse.csc.csc_matrix'>\n",
    "    y là dữ liệu labels y: (1, 1) <class 'scipy.sparse.csc.csc_matrix'>\n",
    "    X là dữ liệu Train X: (28901, 1) <class 'scipy.sparse.csr.csr_matrix'>\n",
    "    \n",
    "    Hàm trả về giá trị đạo hàm của Cost theo từng w\n",
    "    '''\n",
    "    # tính giá trị đầu ra của hàm Linear Regression\n",
    "    s = X.dot(w).toarray()\n",
    "    # scale s về khoảng [0,1] dùng hàm sigmoid\n",
    "    # z là xác xuất điểm dữ liệu rơi vào lớp y\n",
    "    z = sigmoid(s)\n",
    "    y = y.toarray()\n",
    "#     print('z',z.shape, type(z))\n",
    "#     print('y',y.shape, type(y))\n",
    "#     print('X',X.shape, type(X))\n",
    "    der = (z-y).T\n",
    "    \n",
    "    X = X.T\n",
    "#     print(X.shape, type(X))\n",
    "    der = sp.csr_matrix(der, shape = (1,der.shape[1]))\n",
    "    der = der.T\n",
    "#     print(der.shape, type(der))\n",
    "    \n",
    "    return X.dot(der)"
   ]
  },
  {
   "cell_type": "markdown",
   "metadata": {},
   "source": [
    "# Khởi tạo Learning Rate"
   ]
  },
  {
   "cell_type": "code",
   "execution_count": 5,
   "metadata": {},
   "outputs": [],
   "source": [
    "# Khởi tạo learning rate\n",
    "alpha = 0.0005"
   ]
  },
  {
   "cell_type": "markdown",
   "metadata": {},
   "source": [
    "# Prediction"
   ]
  },
  {
   "cell_type": "code",
   "execution_count": 6,
   "metadata": {},
   "outputs": [],
   "source": [
    "def Prediction(w, y, X, thred):\n",
    "    '''\n",
    "    W là ma trận bộ trọng số w: (28901, 1)  <class 'scipy.sparse.csc.csc_matrix'>\n",
    "    y là dữ liệu labels y: (1, 1) <class 'scipy.sparse.csc.csc_matrix'>\n",
    "    X là dữ liệu Train X: (28901, 1) <class 'scipy.sparse.csr.csr_matrix'>\n",
    "    \n",
    "    Hàm trả về ma trận N*1 với N là số datapoint\n",
    "    '''\n",
    "     # tính giá trị đầu ra của hàm Linear Regression\n",
    "    s = X.dot(w).toarray()\n",
    "    # scale s về khoảng [0,1] dùng hàm sigmoid\n",
    "    # z là xác xuất điểm dữ liệu rơi vào lớp y\n",
    "    z = sigmoid(s)\n",
    "    for i in range(z.shape[0]):\n",
    "        if(z[i]>thred):\n",
    "            z[i] = 1\n",
    "        else: z[i] = 0\n",
    "    return z"
   ]
  },
  {
   "cell_type": "code",
   "execution_count": 7,
   "metadata": {},
   "outputs": [],
   "source": [
    "# Khởi tạo ma trận biến với giá trị khởi tạo tại mỗi phần tử là 0\n",
    "w = np.zeros((X_Train.shape[1], 1))\n",
    "w = sp.csc_matrix(w, shape = (len(w),1))"
   ]
  },
  {
   "cell_type": "markdown",
   "metadata": {},
   "source": [
    "# BGD "
   ]
  },
  {
   "cell_type": "code",
   "execution_count": 8,
   "metadata": {},
   "outputs": [
    {
     "name": "stdout",
     "output_type": "stream",
     "text": [
      "epoch =  0 cost =  0.5653322812157848\n",
      "epoch =  500 cost =  0.017510354927082812\n",
      "epoch =  1000 cost =  0.009231297768371454\n",
      "epoch =  1500 cost =  0.006263567045521529\n"
     ]
    },
    {
     "name": "stderr",
     "output_type": "stream",
     "text": [
      "C:\\Users\\Admin\\Anaconda3\\envs\\NEW\\lib\\site-packages\\ipykernel_launcher.py:16: RuntimeWarning: divide by zero encountered in log\n",
      "  app.launch_new_instance()\n",
      "C:\\Users\\Admin\\Anaconda3\\envs\\NEW\\lib\\site-packages\\ipykernel_launcher.py:16: RuntimeWarning: invalid value encountered in multiply\n",
      "  app.launch_new_instance()\n"
     ]
    },
    {
     "name": "stdout",
     "output_type": "stream",
     "text": [
      "Cost trên tập test_data: 0.7685450132600802\n"
     ]
    },
    {
     "data": {
      "image/png": "[encoded data removed]",
      "text/plain": [
       "<Figure size 432x288 with 1 Axes>"
      ]
     },
     "metadata": {
      "needs_background": "light"
     },
     "output_type": "display_data"
    }
   ],
   "source": [
    "# list chứa tất cả mse\n",
    "all_Cost = []\n",
    "\n",
    "# Khởi tạo số vòng lặp\n",
    "i = 0\n",
    "# Huấn luyện\n",
    "while True:\n",
    "    # Tính cost với w hiện thời\n",
    "    err = Cost_Function(w, y_Train, X_Train)\n",
    "    all_Cost.append(err)\n",
    "    # Cập nhật w theo công thức gradient descent\n",
    "    der = Derivative(w, y_Train, X_Train)\n",
    "    w = w - alpha*der \n",
    "   \n",
    "    if i % 500 == 0:\n",
    "        # In ra cost tại vòng lặp thứ i\n",
    "        print(\"epoch = \", i, \"cost = \",Cost_Function(w, y_Train, X_Train))\n",
    "    i += 1\n",
    "    if math.isnan(float(err)) or (LA.norm(der.toarray())/ der.shape[0]) == 0:\n",
    "        break\n",
    "    \n",
    "\n",
    "# kiểm tra trên tập test\n",
    "print(\"Cost trên tập test_data:\", Cost_Function(w, y_test, X_test))\n",
    "# Vẽ đồ thị biễu diễn cost qua từng vòng lặp\n",
    "axis_x = list(range(i))\n",
    "axis_y = all_Cost\n",
    "plt.scatter(axis_x, axis_y)\n",
    "plt.show()"
   ]
  },
  {
   "cell_type": "code",
   "execution_count": 9,
   "metadata": {},
   "outputs": [],
   "source": [
    "y_pred = Prediction(w, y_test, X_test, 0.5)"
   ]
  },
  {
   "cell_type": "code",
   "execution_count": 10,
   "metadata": {},
   "outputs": [
    {
     "name": "stdout",
     "output_type": "stream",
     "text": [
      "TP: 2223\n",
      "FP: 493\n",
      "P: 2930\n"
     ]
    }
   ],
   "source": [
    "# tính tổng số điểm dữ liệu dự đoán có nhãn là 1 đúng\n",
    "def find_TP(y_pred, y_test):\n",
    "    count = 0\n",
    "    Positive = np.multiply(y_pred, y_test)\n",
    "    return np.count_nonzero(Positive)\n",
    "TP = find_TP(y_pred, y_test.toarray())\n",
    "\n",
    "# tính tổng số điểm dữ liệu dự đoán nhãn là 1 nhưng sai\n",
    "def find_FP(y_pred, y_test):\n",
    "    count = 0\n",
    "    for i in range(y_pred.shape[0]):\n",
    "        if y_pred[i] == 1:\n",
    "            if y_test[i] == 0:\n",
    "                count += 1\n",
    "    return count\n",
    "FP = find_FP(y_pred, y_test.toarray())\n",
    "\n",
    "# tính tống số điểm dữ liệu có nhãn là 1 trong tập test\n",
    "def find_P(y_pred, y_test):\n",
    "    return np.count_nonzero(y_test)\n",
    "P = find_P(y_pred, y_test.toarray())\n",
    "\n",
    "print('TP:', TP)\n",
    "print('FP:', FP)\n",
    "print('P:', P)"
   ]
  },
  {
   "cell_type": "markdown",
   "metadata": {},
   "source": [
    "# Valuate"
   ]
  },
  {
   "cell_type": "code",
   "execution_count": 11,
   "metadata": {},
   "outputs": [
    {
     "name": "stdout",
     "output_type": "stream",
     "text": [
      "Accuracy =  0.8211357877478015\n",
      "Precision score = 0.8184830633284241\n",
      "Recall score: 0.758703071672355\n",
      "F1_score: 0.7874601487778958\n"
     ]
    }
   ],
   "source": [
    "from Evaluate import *\n",
    "Re = Recall(TP, P)\n",
    "Pr = Precision(TP, FP)\n",
    "print('Accuracy = ',Accuracy(y_pred, y_test.toarray()))\n",
    "print(\"Precision score =\", Pr)\n",
    "print(\"Recall score:\", Re)\n",
    "print(\"F1_score:\",F1_score(Pr, Re))"
   ]
  },
  {
   "cell_type": "code",
   "execution_count": null,
   "metadata": {},
   "outputs": [],
   "source": []
  }
 ],
 "metadata": {
  "kernelspec": {
   "display_name": "Python 3",
   "language": "python",
   "name": "python3"
  },
  "language_info": {
   "codemirror_mode": {
    "name": "ipython",
    "version": 3
   },
   "file_extension": ".py",
   "mimetype": "text/x-python",
   "name": "python",
   "nbconvert_exporter": "python",
   "pygments_lexer": "ipython3",
   "version": "3.6.8"
  }
 },
 "nbformat": 4,
 "nbformat_minor": 2
}
