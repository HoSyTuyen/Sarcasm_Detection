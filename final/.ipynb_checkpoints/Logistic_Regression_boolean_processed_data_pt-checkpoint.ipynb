{
 "cells": [
  {
   "cell_type": "code",
   "execution_count": 1,
   "metadata": {},
   "outputs": [
    {
     "name": "stderr",
     "output_type": "stream",
     "text": [
      "C:\\Users\\Admin\\Anaconda3\\envs\\NEW\\lib\\site-packages\\ipykernel_launcher.py:47: SparseEfficiencyWarning: Changing the sparsity structure of a csc_matrix is expensive. lil_matrix is more efficient.\n"
     ]
    }
   ],
   "source": [
    "# import thư viện numpy\n",
    "import numpy as np\n",
    "# import thư viện matplotlib\n",
    "import matplotlib.pyplot as plt\n",
    "\n",
    "import scipy.sparse as sp\n",
    "\n",
    "import math\n",
    "\n",
    "from numpy import linalg as LA\n",
    "\n",
    "# Tải dữ liệu data X và y đã được xử lý thành ma trận\n",
    "labels = np.load('C:/Users/Admin/Downloads/NLTK_is_Sarcastic-master/label.npy')\n",
    "# dữ liệu bình thường dùng hàm tách\n",
    "# features = sp.load_npz('C:/Users/Admin/Downloads/NLTK_is_Sarcastic-master/PreProcessed_Data/tfidf.npz')\n",
    "\n",
    "# dữ liệu tf_idf loại bỏ stop words\n",
    "# features = sp.load_npz('C:/Users/Admin/Downloads/NLTK_is_Sarcastic-master/PreProcessed_Data/tf_idf_processed_data_sw.npz')\n",
    "# dữ liệu tf_idf không loại bỏ stop words\n",
    "# features = sp.load_npz('C:/Users/Admin/Downloads/NLTK_is_Sarcastic-master/PreProcessed_Data/tf_idf_processed_data_pt.npz')\n",
    "\n",
    "# dữ liệu boolean loại bỏ stop words\n",
    "# features = sp.load_npz('C:/Users/Admin/Downloads/NLTK_is_Sarcastic-master/PreProcessed_Data/boolean_processed_data_sw.npz')\n",
    "# dữ liệu boolean không loại bỏ stop words\n",
    "features = sp.load_npz('C:/Users/Admin/Downloads/NLTK_is_Sarcastic-master/PreProcessed_Data/boolean_processed_data_pt.npz')\n",
    "\n",
    "# dữ liệu tf loại bỏ stop words\n",
    "# features = sp.load_npz('C:/Users/Admin/Downloads/NLTK_is_Sarcastic-master/PreProcessed_Data/tf_processed_data_sw.npz')\n",
    "# dữ liệu tf không loại bỏ stop words\n",
    "# features = sp.load_npz('C:/Users/Admin/Downloads/NLTK_is_Sarcastic-master/PreProcessed_Data/tf_processed_data_pt.npz')\n",
    "\n",
    "# dữ liệu idf loại bỏ stop words\n",
    "# features = sp.load_npz('C:/Users/Admin/Downloads/NLTK_is_Sarcastic-master/PreProcessed_Data/idf_processed_data_sw.npz')\n",
    "# dữ liệu idf không loại bỏ stop words\n",
    "# features = sp.load_npz('C:/Users/Admin/Downloads/NLTK_is_Sarcastic-master/PreProcessed_Data/idf_processed_data_pt.npz')\n",
    "\n",
    "def add_bias(features, labels):\n",
    "    '''\n",
    "    features là ma trận N*X với N là số datapoint, X là số term trong dictionary\n",
    "    labels là ma trận N*1 với N là số datapoint\n",
    "    \n",
    "    Hàm trả về ma trận features(sau khi đã thêm 1 cột bias giá trị 1 cho tất cả các phần tử) và labels\n",
    "    '''\n",
    "    # Thêm cột giá trị bias cho dữ liệu\n",
    "    labels_final = sp.csr_matrix(labels, shape = (1, len(labels)))\n",
    "    matrix_ones = sp.csc_matrix((26709,1),dtype=np.float)\n",
    "    matrix_ones[:]=1\n",
    "    matrix_final_features= sp.csc_matrix(sp.hstack((features,matrix_ones)))\n",
    "    return matrix_final_features, labels_final\n",
    "\n",
    "# chia Train và test\n",
    "matrix_final_features, labels_final = add_bias(features, labels)\n",
    "X_Train = matrix_final_features[:20000]\n",
    "X_test = matrix_final_features[20000:]\n",
    "y_Train = labels_final.T[:20000]\n",
    "y_test = labels_final.T[20000:]"
   ]
  },
  {
   "cell_type": "markdown",
   "metadata": {},
   "source": [
    "# Hàm Sigmoid"
   ]
  },
  {
   "cell_type": "code",
   "execution_count": 2,
   "metadata": {},
   "outputs": [],
   "source": [
    "def sigmoid(z):\n",
    "    # hàm sigmoid\n",
    "    '''\n",
    "    z là model đầu ra Linear Regression\n",
    "    np.exp là e mũ\n",
    "    Hàm trả về sigmoid của z\n",
    "    \n",
    "    '''\n",
    "    return 1/(1+np.exp(-z))"
   ]
  },
  {
   "cell_type": "markdown",
   "metadata": {},
   "source": [
    "# Hàm Cost Function"
   ]
  },
  {
   "cell_type": "code",
   "execution_count": 3,
   "metadata": {},
   "outputs": [],
   "source": [
    "def Cost_Function(w, y, X):\n",
    "    '''\n",
    "    w là ma trận bộ tham số có shape bằng (1,X.shape[1])\n",
    "    X là features\n",
    "    y là y labels\n",
    "    Hàm trả về cost tương ứng bộ tham số w\n",
    "    \n",
    "    '''\n",
    "    # tính giá trị đầu ra của hàm Linear Regression\n",
    "    s = X.dot(w).toarray()\n",
    "    # scale s về khoảng [0,1] dùng hàm sigmoid\n",
    "    # z là xác xuất điểm dữ liệu rơi vào lớp y\n",
    "    z = sigmoid(s)\n",
    "    y = y.toarray()\n",
    "    \n",
    "    cost = -np.sum((y*(np.log(z)) + (1-y)*np.log(1-z)))/ X.shape[0]\n",
    "    \n",
    "    return cost"
   ]
  },
  {
   "cell_type": "markdown",
   "metadata": {},
   "source": [
    "# Hàm tính đạo hàm "
   ]
  },
  {
   "cell_type": "code",
   "execution_count": 4,
   "metadata": {},
   "outputs": [],
   "source": [
    "def Derivative(w, y, X):\n",
    "    '''\n",
    "    W là ma trận bộ trọng số w: (28901, 1)  <class 'scipy.sparse.csc.csc_matrix'>\n",
    "    y là dữ liệu labels y: (1, 1) <class 'scipy.sparse.csc.csc_matrix'>\n",
    "    X là dữ liệu Train X: (28901, 1) <class 'scipy.sparse.csr.csr_matrix'>\n",
    "    \n",
    "    Hàm trả về giá trị đạo hàm của Cost theo từng w\n",
    "    '''\n",
    "    # tính giá trị đầu ra của hàm Linear Regression\n",
    "    s = X.dot(w).toarray()\n",
    "    # scale s về khoảng [0,1] dùng hàm sigmoid\n",
    "    # z là xác xuất điểm dữ liệu rơi vào lớp y\n",
    "    z = sigmoid(s)\n",
    "    y = y.toarray()\n",
    "#     print('z',z.shape, type(z))\n",
    "#     print('y',y.shape, type(y))\n",
    "#     print('X',X.shape, type(X))\n",
    "    der = (z-y).T\n",
    "    \n",
    "    X = X.T\n",
    "#     print(X.shape, type(X))\n",
    "    der = sp.csr_matrix(der, shape = (1,der.shape[1]))\n",
    "    der = der.T\n",
    "#     print(der.shape, type(der))\n",
    "    \n",
    "    return X.dot(der)"
   ]
  },
  {
   "cell_type": "markdown",
   "metadata": {},
   "source": [
    "# Khởi tạo Learning Rate"
   ]
  },
  {
   "cell_type": "code",
   "execution_count": 5,
   "metadata": {},
   "outputs": [],
   "source": [
    "# Khởi tạo learning rate\n",
    "alpha = 0.0005"
   ]
  },
  {
   "cell_type": "markdown",
   "metadata": {},
   "source": [
    "# Prediction"
   ]
  },
  {
   "cell_type": "code",
   "execution_count": 11,
   "metadata": {},
   "outputs": [],
   "source": [
    "def Prediction(w, y, X, thred):\n",
    "    '''\n",
    "    W là ma trận bộ trọng số w: (28901, 1)  <class 'scipy.sparse.csc.csc_matrix'>\n",
    "    y là dữ liệu labels y: (1, 1) <class 'scipy.sparse.csc.csc_matrix'>\n",
    "    X là dữ liệu Train X: (28901, 1) <class 'scipy.sparse.csr.csr_matrix'>\n",
    "    \n",
    "    Hàm trả về ma trận N*1 với N là số datapoint\n",
    "    '''\n",
    "     # tính giá trị đầu ra của hàm Linear Regression\n",
    "    s = X.dot(w).toarray()\n",
    "    # scale s về khoảng [0,1] dùng hàm sigmoid\n",
    "    # z là xác xuất điểm dữ liệu rơi vào lớp y\n",
    "    z = sigmoid(s)\n",
    "    for i in range(z.shape[0]):\n",
    "        if(z[i]>thred):\n",
    "            z[i] = 1\n",
    "        else: z[i] = 0\n",
    "    return z"
   ]
  },
  {
   "cell_type": "code",
   "execution_count": 7,
   "metadata": {},
   "outputs": [],
   "source": [
    "# Khởi tạo ma trận biến với giá trị khởi tạo tại mỗi phần tử là 0\n",
    "w = np.zeros((X_Train.shape[1], 1))\n",
    "w = sp.csc_matrix(w, shape = (len(w),1))"
   ]
  },
  {
   "cell_type": "markdown",
   "metadata": {},
   "source": [
    "# BGD "
   ]
  },
  {
   "cell_type": "code",
   "execution_count": 8,
   "metadata": {},
   "outputs": [
    {
     "name": "stdout",
     "output_type": "stream",
     "text": [
      "epoch =  0 cost =  0.6566672705059877\n",
      "epoch =  500 cost =  0.24788948737023817\n",
      "epoch =  1000 cost =  0.1939181608242348\n",
      "epoch =  1500 cost =  0.16299206337374889\n",
      "epoch =  2000 cost =  0.14186630941384457\n",
      "epoch =  2500 cost =  0.12616580754543116\n",
      "epoch =  3000 cost =  0.11389396930653074\n",
      "epoch =  3500 cost =  0.10397055916059142\n",
      "epoch =  4000 cost =  0.09574492039742018\n",
      "epoch =  4500 cost =  0.0887952251295721\n",
      "epoch =  5000 cost =  0.08283313783721961\n",
      "epoch =  5500 cost =  0.07765362774740235\n",
      "epoch =  6000 cost =  0.07310634915616884\n",
      "epoch =  6500 cost =  0.069078250403293\n",
      "epoch =  7000 cost =  0.06548247366300351\n",
      "epoch =  7500 cost =  0.06225100932162456\n",
      "epoch =  8000 cost =  0.05932971019078652\n",
      "epoch =  8500 cost =  0.05667484147702182\n",
      "epoch =  9000 cost =  0.0542506458894387\n",
      "epoch =  9500 cost =  0.052027584857145565\n",
      "epoch =  10000 cost =  0.04998103728386844\n",
      "epoch =  10500 cost =  0.04809031671849961\n",
      "epoch =  11000 cost =  0.04633791695867614\n",
      "epoch =  11500 cost =  0.044708925398891396\n",
      "epoch =  12000 cost =  0.04319056133594462\n",
      "epoch =  12500 cost =  0.041771808161141726\n",
      "epoch =  13000 cost =  0.04044311667825141\n",
      "epoch =  13500 cost =  0.039196163100142976\n",
      "epoch =  14000 cost =  0.038023650218511805\n",
      "epoch =  14500 cost =  0.03691914391711102\n",
      "epoch =  15000 cost =  0.03587693950214004\n",
      "epoch =  15500 cost =  0.03489195333098514\n",
      "epoch =  16000 cost =  0.03395963541170171\n",
      "epoch =  16500 cost =  0.033075898697480045\n",
      "epoch =  17000 cost =  0.03223706116702419\n",
      "epoch =  17500 cost =  0.031439797499289865\n",
      "epoch =  18000 cost =  0.03068109799333837\n",
      "epoch =  18500 cost =  0.029958233122768064\n",
      "epoch =  19000 cost =  0.029268722647549105\n",
      "epoch =  19500 cost =  0.02861030854343834\n",
      "epoch =  20000 cost =  0.027980931206578113\n",
      "epoch =  20500 cost =  0.027378708504746233\n",
      "epoch =  21000 cost =  0.02680191731651762\n",
      "epoch =  21500 cost =  0.026248977247989632\n",
      "epoch =  22000 cost =  0.025718436254942446\n",
      "epoch =  22500 cost =  0.025208957931214457\n",
      "epoch =  23000 cost =  0.02471931025347869\n",
      "epoch =  23500 cost =  0.024248355599065827\n",
      "epoch =  24000 cost =  0.023795041877142983\n",
      "epoch =  24500 cost =  0.023358394634514563\n",
      "epoch =  25000 cost =  0.022937510015697323\n",
      "epoch =  25500 cost =  0.022531548472929624\n",
      "epoch =  26000 cost =  0.022139729135634754\n",
      "epoch =  26500 cost =  0.02176132476081457\n",
      "epoch =  27000 cost =  0.02139565719614466\n",
      "epoch =  27500 cost =  0.021042093296398272\n",
      "epoch =  28000 cost =  0.020700041241447316\n",
      "epoch =  28500 cost =  0.020368947210652112\n",
      "epoch =  29000 cost =  0.020048292374111293\n",
      "epoch =  29500 cost =  0.019737590166131632\n",
      "epoch =  30000 cost =  0.019436383810506913\n",
      "epoch =  30500 cost =  0.019144244070860305\n",
      "epoch =  31000 cost =  0.01886076720248723\n",
      "epoch =  31500 cost =  0.018585573084903512\n",
      "epoch =  32000 cost =  0.018318303516715144\n",
      "epoch =  32500 cost =  0.018058620656530355\n",
      "epoch =  33000 cost =  0.017806205595474186\n",
      "epoch =  33500 cost =  0.017560757048476275\n",
      "epoch =  34000 cost =  0.017321990152914923\n",
      "epoch =  34500 cost =  0.017089635364440806\n",
      "epoch =  35000 cost =  0.01686343744089505\n",
      "epoch =  35500 cost =  0.016643154506197813\n",
      "epoch =  36000 cost =  0.016428557186931928\n",
      "epoch =  36500 cost =  0.01621942781509627\n",
      "epoch =  37000 cost =  0.01601555969116719\n",
      "epoch =  37500 cost =  0.015816756402195282\n",
      "epoch =  38000 cost =  0.015622831190187196\n",
      "epoch =  38500 cost =  0.01543360636648742\n",
      "epoch =  39000 cost =  0.015248912768288804\n",
      "epoch =  39500 cost =  0.015068589253770215\n",
      "epoch =  40000 cost =  0.014892482232689684\n",
      "epoch =  40500 cost =  0.014720445229556667\n",
      "epoch =  41000 cost =  0.014552338476771669\n",
      "epoch =  41500 cost =  0.014388028535358763\n",
      "epoch =  42000 cost =  0.014227387941129916\n",
      "epoch =  42500 cost =  0.014070294874311736\n",
      "epoch =  43000 cost =  0.013916632850838176\n",
      "epoch =  43500 cost =  0.013766290433668607\n",
      "epoch =  44000 cost =  0.013619160962631337\n",
      "epoch =  44500 cost =  0.01347514230142005\n",
      "epoch =  45000 cost =  0.013334136600485743\n",
      "epoch =  45500 cost =  0.013196050074671171\n",
      "epoch =  46000 cost =  0.013060792794529595\n",
      "epoch =  46500 cost =  0.012928278490355518\n",
      "epoch =  47000 cost =  0.012798424368033539\n",
      "epoch =  47500 cost =  0.012671150935882362\n",
      "epoch =  48000 cost =  0.012546381841736183\n",
      "epoch =  48500 cost =  0.012424043719564548\n",
      "epoch =  49000 cost =  0.012304066044986003\n",
      "epoch =  49500 cost =  0.012186380999080067\n",
      "epoch =  50000 cost =  0.012070923339947234\n",
      "epoch =  50500 cost =  0.01195763028150806\n",
      "epoch =  51000 cost =  0.011846441379070219\n",
      "epoch =  51500 cost =  0.011737298421227036\n",
      "epoch =  52000 cost =  0.011630145327683099\n",
      "epoch =  52500 cost =  0.011524928052631504\n",
      "epoch =  53000 cost =  0.011421594493334502\n",
      "epoch =  53500 cost =  0.011320094403583803\n",
      "epoch =  54000 cost =  0.011220379311739762\n",
      "epoch =  54500 cost =  0.011122402443069591\n",
      "epoch =  55000 cost =  0.011026118646124152\n",
      "epoch =  55500 cost =  0.010931484322910634\n",
      "epoch =  56000 cost =  0.01083845736263515\n",
      "epoch =  56500 cost =  0.010746997078804277\n",
      "epoch =  57000 cost =  0.010657064149488867\n",
      "epoch =  57500 cost =  0.010568620560566388\n",
      "epoch =  58000 cost =  0.010481629551770198\n",
      "epoch =  58500 cost =  0.01039605556538534\n",
      "epoch =  59000 cost =  0.010311864197440812\n",
      "epoch =  59500 cost =  0.010229022151257892\n",
      "epoch =  60000 cost =  0.01014749719322313\n",
      "epoch =  60500 cost =  0.010067258110662771\n",
      "epoch =  61000 cost =  0.009988274671703238\n",
      "epoch =  61500 cost =  0.009910517587009404\n",
      "epoch =  62000 cost =  0.009833958473299105\n",
      "epoch =  62500 cost =  0.00975856981853854\n",
      "epoch =  63000 cost =  0.009684324948729025\n",
      "epoch =  63500 cost =  0.009611197996200948\n",
      "epoch =  64000 cost =  0.009539163869335848\n",
      "epoch =  64500 cost =  0.00946819822364221\n",
      "epoch =  65000 cost =  0.009398277434114968\n",
      "epoch =  65500 cost =  0.009329378568812817\n",
      "epoch =  66000 cost =  0.009261479363591275\n",
      "epoch =  66500 cost =  0.009194558197933\n",
      "epoch =  67000 cost =  0.009128594071820227\n",
      "epoch =  67500 cost =  0.009063566583597362\n",
      "epoch =  68000 cost =  0.008999455908774639\n",
      "epoch =  68500 cost =  0.008936242779726584\n",
      "epoch =  69000 cost =  0.00887390846624155\n",
      "epoch =  69500 cost =  0.008812434756881033\n",
      "epoch =  70000 cost =  0.008751803941109719\n"
     ]
    },
    {
     "name": "stderr",
     "output_type": "stream",
     "text": [
      "C:\\Users\\Admin\\Anaconda3\\envs\\NEW\\lib\\site-packages\\ipykernel_launcher.py:16: RuntimeWarning: divide by zero encountered in log\n",
      "  app.launch_new_instance()\n",
      "C:\\Users\\Admin\\Anaconda3\\envs\\NEW\\lib\\site-packages\\ipykernel_launcher.py:16: RuntimeWarning: invalid value encountered in multiply\n",
      "  app.launch_new_instance()\n"
     ]
    },
    {
     "name": "stdout",
     "output_type": "stream",
     "text": [
      "Cost trên tập test_data: 0.7343503742646184\n"
     ]
    },
    {
     "data": {
      "image/png": "[encoded data removed]",
      "text/plain": [
       "<Figure size 432x288 with 1 Axes>"
      ]
     },
     "metadata": {
      "needs_background": "light"
     },
     "output_type": "display_data"
    }
   ],
   "source": [
    "# list chứa tất cả mse\n",
    "all_Cost = []\n",
    "\n",
    "# Khởi tạo số vòng lặp\n",
    "i = 0\n",
    "# Huấn luyện\n",
    "while True:\n",
    "    # Tính cost với w hiện thời\n",
    "    err = Cost_Function(w, y_Train, X_Train)\n",
    "    all_Cost.append(err)\n",
    "    # Cập nhật w theo công thức gradient descent\n",
    "    der = Derivative(w, y_Train, X_Train)\n",
    "    w = w - alpha*der \n",
    "   \n",
    "    if i % 500 == 0:\n",
    "        # In ra cost tại vòng lặp thứ i\n",
    "        print(\"epoch = \", i, \"cost = \",Cost_Function(w, y_Train, X_Train))\n",
    "    i += 1\n",
    "    if math.isnan(float(err)) or (LA.norm(der.toarray())/ der.shape[0]) == 0:\n",
    "        break\n",
    "\n",
    "# kiểm tra trên tập test\n",
    "print(\"Cost trên tập test_data:\", Cost_Function(w, y_test, X_test))\n",
    "# Vẽ đồ thị biễu diễn cost qua từng vòng lặp\n",
    "axis_x = list(range(i))\n",
    "axis_y = all_Cost\n",
    "plt.scatter(axis_x, axis_y)\n",
    "plt.show()"
   ]
  },
  {
   "cell_type": "code",
   "execution_count": 13,
   "metadata": {},
   "outputs": [],
   "source": [
    "y_pred = Prediction(w, y_test, X_test, 0.5)"
   ]
  },
  {
   "cell_type": "markdown",
   "metadata": {},
   "source": [
    "# Accuracy"
   ]
  },
  {
   "cell_type": "code",
   "execution_count": 14,
   "metadata": {},
   "outputs": [
    {
     "name": "stdout",
     "output_type": "stream",
     "text": [
      "TP: 2233\n",
      "FP: 501\n",
      "P: 2930\n"
     ]
    }
   ],
   "source": [
    "# tính tổng số điểm dữ liệu dự đoán có nhãn là 1 đúng\n",
    "def find_TP(y_pred, y_test):\n",
    "    count = 0\n",
    "    Positive = np.multiply(y_pred, y_test)\n",
    "    return np.count_nonzero(Positive)\n",
    "TP = find_TP(y_pred, y_test.toarray())\n",
    "\n",
    "# tính tổng số điểm dữ liệu dự đoán nhãn là 1 nhưng sai\n",
    "def find_FP(y_pred, y_test):\n",
    "    count = 0\n",
    "    for i in range(y_pred.shape[0]):\n",
    "        if y_pred[i] == 1:\n",
    "            if y_test[i] == 0:\n",
    "                count += 1\n",
    "    return count\n",
    "FP = find_FP(y_pred, y_test.toarray())\n",
    "\n",
    "# tính tống số điểm dữ liệu có nhãn là 1 trong tập test\n",
    "def find_P(y_pred, y_test):\n",
    "    return np.count_nonzero(y_test)\n",
    "P = find_P(y_pred, y_test.toarray())\n",
    "\n",
    "print('TP:', TP)\n",
    "print('FP:', FP)\n",
    "print('P:', P)"
   ]
  },
  {
   "cell_type": "markdown",
   "metadata": {},
   "source": [
    "# Evaluate"
   ]
  },
  {
   "cell_type": "code",
   "execution_count": 17,
   "metadata": {},
   "outputs": [
    {
     "name": "stdout",
     "output_type": "stream",
     "text": [
      "Accuracy =  0.8214338947682218\n",
      "Precision score = 0.8167520117044623\n",
      "Recall score: 0.7621160409556313\n",
      "F1_score: 0.7884887005649718\n"
     ]
    }
   ],
   "source": [
    "from Evaluate import *\n",
    "Re = Recall(TP, P)\n",
    "Pr = Precision(TP, FP)\n",
    "print('Accuracy = ',Accuracy(y_pred, y_test.toarray()))\n",
    "print(\"Precision score =\", Pr)\n",
    "print(\"Recall score:\", Re)\n",
    "print(\"F1_score:\",F1_score(Pr, Re))"
   ]
  },
  {
   "cell_type": "code",
   "execution_count": null,
   "metadata": {},
   "outputs": [],
   "source": []
  }
 ],
 "metadata": {
  "kernelspec": {
   "display_name": "Python 3",
   "language": "python",
   "name": "python3"
  },
  "language_info": {
   "codemirror_mode": {
    "name": "ipython",
    "version": 3
   },
   "file_extension": ".py",
   "mimetype": "text/x-python",
   "name": "python",
   "nbconvert_exporter": "python",
   "pygments_lexer": "ipython3",
   "version": "3.6.8"
  }
 },
 "nbformat": 4,
 "nbformat_minor": 2
}
